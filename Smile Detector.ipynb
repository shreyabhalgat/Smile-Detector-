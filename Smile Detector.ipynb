{
 "cells": [
  {
   "cell_type": "markdown",
   "metadata": {},
   "source": [
    "# Real Time Smile Detector"
   ]
  },
  {
   "cell_type": "markdown",
   "metadata": {},
   "source": [
    "Approach \n",
    "\n",
    "1.Finding Faces in our Image(Haar algorithm)\n",
    "\n",
    "2.Finding Smiles Within those Faces (Haar Algorithm)\n",
    "\n",
    "3.Labeling the face if the face is smiling\n"
   ]
  },
  {
   "cell_type": "code",
   "execution_count": 1,
   "metadata": {},
   "outputs": [],
   "source": [
    "# Importing Libraries\n",
    "\n",
    "import cv2"
   ]
  },
  {
   "cell_type": "code",
   "execution_count": 2,
   "metadata": {},
   "outputs": [],
   "source": [
    "# face and smile detectors\n",
    "\n",
    "faceCascade = cv2.CascadeClassifier('haarcascade_frontalface_default.xml')\n",
    "smileCascade = cv2.CascadeClassifier('haarcascade_smile.xml')\n"
   ]
  },
  {
   "cell_type": "code",
   "execution_count": 3,
   "metadata": {},
   "outputs": [],
   "source": [
    "# Webcam\n",
    "\n",
    "cap = cv2.VideoCapture(0)"
   ]
  },
  {
   "cell_type": "code",
   "execution_count": 4,
   "metadata": {},
   "outputs": [],
   "source": [
    "while True:\n",
    "    true, im = cap.read()\n",
    "    gray = cv2.cvtColor(im, cv2.COLOR_BGR2GRAY)\n",
    "    face = faceCascade.detectMultiScale(gray, scaleFactor=1.3, minNeighbors=5, minSize=(30, 30))\n",
    "\n",
    "    for (x,y,w,h) in face:\n",
    "        cv2.rectangle(im,(x,y),(x+w,y+h),(255,0,0),2)\n",
    "        gray_temp = gray[y:y+h, x:x+w]\n",
    "                \n",
    "        smile = smileCascade.detectMultiScale(gray_temp, scaleFactor= 1.3, minNeighbors=5, minSize=(30, 30))\n",
    "        \n",
    "        for i in smile:\n",
    "            if len(smile)>1:\n",
    "                cv2.putText(im,\"Smiling\",(x,y-50),cv2.FONT_HERSHEY_PLAIN,\n",
    "                    2,(0,0,204),3,cv2.LINE_AA)\n",
    "               \n",
    "    cv2.imshow('RESULT', im)\n",
    "    if cv2.waitKey(1) & 0xFF==ord('q'):\n",
    "        break\n",
    "\n",
    "cap.release()\n",
    "cv2.destroyAllWindows()"
   ]
  },
  {
   "cell_type": "code",
   "execution_count": null,
   "metadata": {},
   "outputs": [],
   "source": []
  }
 ],
 "metadata": {
  "kernelspec": {
   "display_name": "Python 3.9.12 ('base')",
   "language": "python",
   "name": "python3"
  },
  "language_info": {
   "codemirror_mode": {
    "name": "ipython",
    "version": 3
   },
   "file_extension": ".py",
   "mimetype": "text/x-python",
   "name": "python",
   "nbconvert_exporter": "python",
   "pygments_lexer": "ipython3",
   "version": "3.9.12"
  },
  "orig_nbformat": 4,
  "vscode": {
   "interpreter": {
    "hash": "cac88281fd8e9dedb054d17176b1e171e7fc2f03a42270ed4f253a4a50e910d2"
   }
  }
 },
 "nbformat": 4,
 "nbformat_minor": 2
}
